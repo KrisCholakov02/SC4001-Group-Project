{
 "cells": [
  {
   "cell_type": "code",
   "execution_count": 1,
   "metadata": {},
   "outputs": [],
   "source": [
    "import torch\n",
    "import torch.nn as nn\n",
    "import torch.nn.functional as F\n",
    "import torch.optim as optim\n",
    "from torch.utils.data import DataLoader, TensorDataset, Dataset\n",
    "\n",
    "from tqdm import tqdm\n",
    "import pandas as pd\n",
    "import numpy as np\n",
    "import matplotlib.pyplot as plt\n",
    "import re\n",
    "\n",
    "from sklearn.model_selection import train_test_split\n",
    "from sklearn.preprocessing import LabelEncoder\n",
    "from sklearn import preprocessing\n",
    "from sklearn.model_selection import KFold\n",
    "from sklearn.metrics import f1_score, precision_score, recall_score, confusion_matrix\n",
    "\n",
    "from keras.preprocessing.text import Tokenizer\n",
    "from keras.preprocessing.sequence import pad_sequences\n",
    "\n",
    "from IPython.lib.display import Audio\n"
   ]
  },
  {
   "cell_type": "code",
   "execution_count": 2,
   "metadata": {},
   "outputs": [],
   "source": [
    "features_df = pd.read_csv(\"features_df.csv\")\n",
    "labels_df = features_df['label']\n",
    "features_df.drop('label',axis=1, inplace=True)"
   ]
  },
  {
   "cell_type": "code",
   "execution_count": 3,
   "metadata": {},
   "outputs": [],
   "source": [
    "X_train, X_test, y_train, y_test = train_test_split(features_df, labels_df, test_size=0.2, random_state=42)\n",
    "texts_train = X_train['text'].to_list()\n",
    "texts_test = X_test['text'].to_list()\n",
    "X_train.drop('text', axis=1, inplace=True)\n",
    "X_test.drop('text', axis=1, inplace=True)"
   ]
  },
  {
   "cell_type": "code",
   "execution_count": 4,
   "metadata": {},
   "outputs": [],
   "source": [
    "# Tokenize the text data\n",
    "tokenizer = Tokenizer()\n",
    "tokenizer.fit_on_texts(texts_train+texts_test)\n",
    "sequences_train = tokenizer.texts_to_sequences(texts_train)\n",
    "max_length_train = max([len(seq) for seq in sequences_train])\n",
    "padded_sequences = pad_sequences(sequences_train, maxlen=max_length_train)\n",
    "\n",
    "sequences_test = tokenizer.texts_to_sequences(texts_test)\n",
    "max_length_test = max([len(seq) for seq in sequences_test])\n",
    "padded_sequences_test = pad_sequences(sequences_test, maxlen=max_length_test)"
   ]
  },
  {
   "cell_type": "code",
   "execution_count": 12,
   "metadata": {},
   "outputs": [],
   "source": [
    "def preprocess_dataset(df_train, df_test):\n",
    "\n",
    "    standard_scaler = preprocessing.StandardScaler()\n",
    "    df_train_scaled = standard_scaler.fit_transform(df_train)\n",
    "    df_test_scaled = standard_scaler.transform(df_test)\n",
    "\n",
    "    return df_train_scaled, df_test_scaled\n",
    "\n",
    "# Early stopping\n",
    "class EarlyStopping:\n",
    "    def __init__(self, patience=5, verbose=False, delta=0, path='checkpoint.pt'):\n",
    "        self.patience = patience\n",
    "        self.verbose = verbose\n",
    "        self.counter = 0\n",
    "        self.best_score = None\n",
    "        self.early_stop = False\n",
    "        self.val_loss_min = np.Inf\n",
    "        self.delta = delta\n",
    "        self.path = path\n",
    "\n",
    "    def __call__(self, val_loss, model):\n",
    "        score = -val_loss\n",
    "\n",
    "        if self.best_score is None:\n",
    "            self.best_score = score\n",
    "            self.save_checkpoint(val_loss, model)\n",
    "        elif score < self.best_score + self.delta:\n",
    "            self.counter += 1\n",
    "            if self.verbose:\n",
    "                print(f'EarlyStopping counter: {self.counter} out of {self.patience}')\n",
    "            if self.counter >= self.patience:\n",
    "                self.early_stop = True\n",
    "        else:\n",
    "            self.best_score = score\n",
    "            self.save_checkpoint(val_loss, model)\n",
    "            self.counter = 0\n",
    "\n",
    "    def save_checkpoint(self, val_loss, model):\n",
    "        if self.verbose:\n",
    "            print(f'Validation loss decreased ({self.val_loss_min:.6f} --> {val_loss:.6f}).  Saving model ...')\n",
    "        torch.save(model.state_dict(), self.path)\n",
    "        self.val_loss_min = val_loss\n",
    "        \n",
    "class CustomDataset(Dataset):\n",
    "    def __init__(self, data, labels, text):\n",
    "        self.data = data\n",
    "        self.labels = labels\n",
    "        self.text = text\n",
    "        \n",
    "    def __len__(self):\n",
    "        return len(self.data)\n",
    "    \n",
    "    def __getitem__(self, idx):\n",
    "        return self.data[idx], self.labels[idx], self.text[idx]\n",
    "\n",
    "def intialise_loaders(X_train, y_train, X_test, y_test, batch_size):\n",
    "    train_data = CustomDataset(X_train, y_train, padded_sequences)\n",
    "    test_data = CustomDataset(X_test, y_test, padded_sequences_test)\n",
    "    train_dataloader = DataLoader(train_data, batch_size, shuffle=True)\n",
    "    test_dataloader = DataLoader(test_data, batch_size, shuffle=True)\n",
    "    return train_dataloader, test_dataloader"
   ]
  },
  {
   "cell_type": "code",
   "execution_count": 13,
   "metadata": {},
   "outputs": [],
   "source": [
    "label_encoder = LabelEncoder()\n",
    "y_train_encoded = label_encoder.fit_transform(y_train)\n",
    "y_test_encoded = label_encoder.transform(y_test)"
   ]
  },
  {
   "cell_type": "code",
   "execution_count": 14,
   "metadata": {},
   "outputs": [],
   "source": [
    "def generate_cv_folds_for_batch_sizes(parameters, X_train, y_train):\n",
    "    X_train_scaled_dict = {}\n",
    "    X_val_scaled_dict = {}\n",
    "    y_train_dict = {}\n",
    "    y_val_dict = {}\n",
    "\n",
    "    for batch_size in parameters:\n",
    "        n_splits = 5\n",
    "\n",
    "        kf = KFold(n_splits=n_splits, shuffle=True)\n",
    "        X_train_scaled_folds = []\n",
    "        X_val_scaled_folds = []\n",
    "        y_train_folds = []\n",
    "        y_val_folds = []\n",
    "\n",
    "        for train_index, val_index in kf.split(X_train):\n",
    "            X_batch_train, X_batch_val = X_train[train_index], X_train[val_index]\n",
    "            y_batch_train, y_batch_val = y_train[train_index], y_train[val_index]\n",
    "\n",
    "            X_batch_train_scaled,X_batch_val_scaled = preprocess_dataset(X_batch_train,X_batch_val)\n",
    "\n",
    "            X_train_scaled_folds.append(X_batch_train_scaled)\n",
    "            X_val_scaled_folds.append(X_batch_val_scaled)\n",
    "            y_train_folds.append(y_batch_train)\n",
    "            y_val_folds.append(y_batch_val)\n",
    "\n",
    "        X_train_scaled_dict[batch_size] = X_train_scaled_folds\n",
    "        X_val_scaled_dict[batch_size] = X_val_scaled_folds\n",
    "        y_train_dict[batch_size] = y_train_folds\n",
    "        y_val_dict[batch_size] = y_val_folds\n",
    "    return X_train_scaled_dict, X_val_scaled_dict, y_train_dict, y_val_dict\n",
    "\n",
    "batch_sizes = [32, 64, 128, 256, 512, 1024]\n",
    "X_train_scaled_dict, X_val_scaled_dict, y_train_dict, y_val_dict = generate_cv_folds_for_batch_sizes(batch_sizes, X_train.to_numpy(), y_train_encoded)\n"
   ]
  },
  {
   "cell_type": "code",
   "execution_count": 15,
   "metadata": {},
   "outputs": [],
   "source": [
    "# Define the MLP model\n",
    "class MLP(nn.Module):\n",
    "\n",
    "    def __init__(self, no_features, no_hidden, no_labels):\n",
    "        super().__init__()\n",
    "        layers = []\n",
    "        parameters = [no_features] + no_hidden\n",
    "        for i in range(len(parameters) - 1):\n",
    "            layers.append(nn.Linear(parameters[i], parameters[i+1]))\n",
    "            layers.append(nn.ReLU())\n",
    "            layers.append(nn.Dropout(0.2))\n",
    "        \n",
    "        self.mlp_stack = nn.Sequential(*layers)\n",
    "        self.fc = nn.Linear(parameters[-1], no_labels)\n",
    "        self.softmax = nn.Softmax(dim=1)\n",
    "\n",
    "    def forward(self, x):\n",
    "        x1 = self.mlp_stack(x)\n",
    "        u = self.fc(x1)\n",
    "        y = self.softmax(u)\n",
    "        return y\n",
    "    \n",
    "# Define the CNN model for NLP processing\n",
    "class CNN(nn.Module):\n",
    "    def __init__(self, vocab_size, embedding_dim, num_filters, filter_sizes, output_dim, dropout):\n",
    "        super(CNN, self).__init__()\n",
    "        self.embedding = nn.Embedding(vocab_size, embedding_dim)\n",
    "        self.convs = nn.ModuleList([\n",
    "            nn.Conv2d(in_channels=1, out_channels=num_filters, kernel_size=(fs, embedding_dim))\n",
    "            for fs in filter_sizes\n",
    "        ])   \n",
    "        self.fc = nn.Linear(len(filter_sizes) * num_filters, output_dim)\n",
    "        self.dropout = nn.Dropout(dropout)\n",
    "    def forward(self, x):\n",
    "        x = x.unsqueeze(1)  \n",
    "        embedded = self.embedding(x)  \n",
    "        conved = [F.relu(conv(embedded)).squeeze(3) for conv in self.convs]  \n",
    "        pooled = [F.max_pool1d(conv, conv.shape[2]).squeeze(2) for conv in conved]  \n",
    "        cat = self.dropout(torch.cat(pooled, dim=1))  \n",
    "        output = self.fc(cat)  \n",
    "        return output\n",
    "    \n",
    "# Define the fusion layer\n",
    "class FusionLayer(nn.Module):\n",
    "    def __init__(self, audio_input_size, text_input_size, output_size, audio_weight=1.0, text_weight=0.0):\n",
    "        super(FusionLayer, self).__init__()\n",
    "        self.fc_audio = nn.Linear(audio_input_size, output_size)\n",
    "        self.fc_text = nn.Linear(text_input_size, output_size)\n",
    "        self.audio_weight = audio_weight\n",
    "        self.text_weight = text_weight\n",
    "\n",
    "    def forward(self, audio_features, text_features):\n",
    "        audio_out = self.fc_audio(audio_features)\n",
    "        text_out = self.fc_text(text_features)\n",
    "        # Apply weight to audio features\n",
    "        audio_out_weighted = self.audio_weight * audio_out\n",
    "        # Apply weight to text features\n",
    "        text_out_weighted = self.text_weight * text_out\n",
    "        fused_output = audio_out_weighted + text_out_weighted\n",
    "        return fused_output\n",
    "\n",
    "\n"
   ]
  },
  {
   "cell_type": "code",
   "execution_count": 16,
   "metadata": {},
   "outputs": [],
   "source": [
    "def train_model(mlp_model, train_dataloader, test_dataloader, loss_fn, optimizer):\n",
    "    num_epochs = 100\n",
    "    early_stopping = EarlyStopping(patience=3)\n",
    "\n",
    "    training_losses = []\n",
    "    training_accuracy = []\n",
    "    validation_losses = []\n",
    "    validation_accuracy = []\n",
    "    for epoch in tqdm(range(num_epochs)):\n",
    "        mlp_model.train()   \n",
    "        training_loss = 0\n",
    "        training_correct_preds = 0\n",
    "        total = 0\n",
    "        \n",
    "        # training\n",
    "        for inputs, labels, texts in train_dataloader:\n",
    "            inputs = inputs.float()\n",
    "\n",
    "            # forward pass\n",
    "            outputs = mlp_model(inputs)\n",
    "            loss = loss_fn(outputs, labels)\n",
    "\n",
    "            # backward pass and optimization\n",
    "            optimizer.zero_grad()\n",
    "            loss.backward()\n",
    "            optimizer.step()\n",
    "            \n",
    "            # track loss and accuracy\n",
    "            training_loss += loss.item()\n",
    "            _, predicted = torch.max(outputs.data, 1)\n",
    "            total += labels.size(0)\n",
    "            training_correct_preds += (predicted == labels).sum().item()\n",
    "            \n",
    "        training_losses.append(training_loss / len(train_dataloader))\n",
    "        training_accuracy.append(training_correct_preds / len(train_dataloader.dataset))\n",
    "            \n",
    "        # validation\n",
    "        mlp_model.eval() \n",
    "        with torch.no_grad():\n",
    "            validation_loss = 0\n",
    "            validation_correct_preds = 0\n",
    "            for inputs, labels, texts in test_dataloader:\n",
    "                inputs = inputs.float()\n",
    "                outputs = mlp_model(inputs)\n",
    "                loss = loss_fn(outputs, labels)\n",
    "                validation_loss += loss.item()\n",
    "                _, predicted = torch.max(outputs.data, 1)\n",
    "                validation_correct_preds += (predicted == labels).sum().item()\n",
    "        \n",
    "        validation_losses.append(validation_loss / len(test_dataloader))\n",
    "        validation_accuracy.append(validation_correct_preds / len(test_dataloader.dataset))\n",
    "        # Check if validation loss is decreasing\n",
    "        early_stopping(validation_loss, mlp_model)\n",
    "        \n",
    "        if early_stopping.early_stop:\n",
    "            print(\"Early stopping\")\n",
    "            break\n",
    "\n",
    "    return validation_accuracy[-1]"
   ]
  },
  {
   "cell_type": "code",
   "execution_count": 17,
   "metadata": {},
   "outputs": [
    {
     "name": "stdout",
     "output_type": "stream",
     "text": [
      "Starting Batch_size 32\n"
     ]
    },
    {
     "name": "stderr",
     "output_type": "stream",
     "text": [
      "  0%|          | 0/100 [00:00<?, ?it/s]"
     ]
    },
    {
     "name": "stderr",
     "output_type": "stream",
     "text": [
      "  9%|▉         | 9/100 [00:04<00:42,  2.15it/s]\n"
     ]
    },
    {
     "name": "stdout",
     "output_type": "stream",
     "text": [
      "Early stopping\n",
      "Batch_size: 32 Fold: 0 Test accuracy: 0.6453407510431154\n",
      "\n"
     ]
    },
    {
     "name": "stderr",
     "output_type": "stream",
     "text": [
      "  9%|▉         | 9/100 [00:03<00:31,  2.86it/s]\n"
     ]
    },
    {
     "name": "stdout",
     "output_type": "stream",
     "text": [
      "Early stopping\n",
      "Batch_size: 32 Fold: 1 Test accuracy: 0.6397774687065368\n",
      "\n"
     ]
    },
    {
     "name": "stderr",
     "output_type": "stream",
     "text": [
      " 11%|█         | 11/100 [00:03<00:28,  3.09it/s]\n"
     ]
    },
    {
     "name": "stdout",
     "output_type": "stream",
     "text": [
      "Early stopping\n",
      "Batch_size: 32 Fold: 2 Test accuracy: 0.6462395543175488\n",
      "\n"
     ]
    },
    {
     "name": "stderr",
     "output_type": "stream",
     "text": [
      "  8%|▊         | 8/100 [00:02<00:28,  3.27it/s]\n"
     ]
    },
    {
     "name": "stdout",
     "output_type": "stream",
     "text": [
      "Early stopping\n",
      "Batch_size: 32 Fold: 3 Test accuracy: 0.6267409470752089\n",
      "\n"
     ]
    },
    {
     "name": "stderr",
     "output_type": "stream",
     "text": [
      " 12%|█▏        | 12/100 [00:03<00:24,  3.58it/s]\n"
     ]
    },
    {
     "name": "stdout",
     "output_type": "stream",
     "text": [
      "Early stopping\n",
      "Batch_size: 32 Fold: 4 Test accuracy: 0.6420612813370473\n",
      "\n",
      "Mean Cross Validation accuracy: 0.6400320004958915\n",
      "\n",
      "Starting Batch_size 64\n"
     ]
    },
    {
     "name": "stderr",
     "output_type": "stream",
     "text": [
      "  7%|▋         | 7/100 [00:01<00:21,  4.29it/s]\n"
     ]
    },
    {
     "name": "stdout",
     "output_type": "stream",
     "text": [
      "Early stopping\n",
      "Batch_size: 64 Fold: 0 Test accuracy: 0.6439499304589708\n",
      "\n"
     ]
    },
    {
     "name": "stderr",
     "output_type": "stream",
     "text": [
      " 20%|██        | 20/100 [00:04<00:16,  4.79it/s]\n"
     ]
    },
    {
     "name": "stdout",
     "output_type": "stream",
     "text": [
      "Early stopping\n",
      "Batch_size: 64 Fold: 1 Test accuracy: 0.655076495132128\n",
      "\n"
     ]
    },
    {
     "name": "stderr",
     "output_type": "stream",
     "text": [
      " 11%|█         | 11/100 [00:02<00:19,  4.59it/s]\n"
     ]
    },
    {
     "name": "stdout",
     "output_type": "stream",
     "text": [
      "Early stopping\n",
      "Batch_size: 64 Fold: 2 Test accuracy: 0.6434540389972145\n",
      "\n"
     ]
    },
    {
     "name": "stderr",
     "output_type": "stream",
     "text": [
      " 12%|█▏        | 12/100 [00:02<00:17,  4.92it/s]\n"
     ]
    },
    {
     "name": "stdout",
     "output_type": "stream",
     "text": [
      "Early stopping\n",
      "Batch_size: 64 Fold: 3 Test accuracy: 0.6309192200557103\n",
      "\n"
     ]
    },
    {
     "name": "stderr",
     "output_type": "stream",
     "text": [
      "  9%|▉         | 9/100 [00:01<00:18,  5.03it/s]\n"
     ]
    },
    {
     "name": "stdout",
     "output_type": "stream",
     "text": [
      "Early stopping\n",
      "Batch_size: 64 Fold: 4 Test accuracy: 0.6323119777158774\n",
      "\n",
      "Mean Cross Validation accuracy: 0.6411423324719803\n",
      "\n",
      "Starting Batch_size 128\n"
     ]
    },
    {
     "name": "stderr",
     "output_type": "stream",
     "text": [
      "  9%|▉         | 9/100 [00:02<00:24,  3.76it/s]\n"
     ]
    },
    {
     "name": "stdout",
     "output_type": "stream",
     "text": [
      "Early stopping\n",
      "Batch_size: 128 Fold: 0 Test accuracy: 0.631432545201669\n",
      "\n"
     ]
    },
    {
     "name": "stderr",
     "output_type": "stream",
     "text": [
      " 15%|█▌        | 15/100 [00:03<00:20,  4.08it/s]\n"
     ]
    },
    {
     "name": "stdout",
     "output_type": "stream",
     "text": [
      "Early stopping\n",
      "Batch_size: 128 Fold: 1 Test accuracy: 0.6495132127955494\n",
      "\n"
     ]
    },
    {
     "name": "stderr",
     "output_type": "stream",
     "text": [
      " 14%|█▍        | 14/100 [00:03<00:21,  3.91it/s]\n"
     ]
    },
    {
     "name": "stdout",
     "output_type": "stream",
     "text": [
      "Early stopping\n",
      "Batch_size: 128 Fold: 2 Test accuracy: 0.66991643454039\n",
      "\n"
     ]
    },
    {
     "name": "stderr",
     "output_type": "stream",
     "text": [
      " 24%|██▍       | 24/100 [00:06<00:19,  3.86it/s]\n"
     ]
    },
    {
     "name": "stdout",
     "output_type": "stream",
     "text": [
      "Early stopping\n",
      "Batch_size: 128 Fold: 3 Test accuracy: 0.6518105849582173\n",
      "\n"
     ]
    },
    {
     "name": "stderr",
     "output_type": "stream",
     "text": [
      " 17%|█▋        | 17/100 [00:04<00:20,  3.97it/s]\n"
     ]
    },
    {
     "name": "stdout",
     "output_type": "stream",
     "text": [
      "Early stopping\n",
      "Batch_size: 128 Fold: 4 Test accuracy: 0.6532033426183844\n",
      "\n",
      "Mean Cross Validation accuracy: 0.651175224022842\n",
      "\n",
      "Starting Batch_size 256\n"
     ]
    },
    {
     "name": "stderr",
     "output_type": "stream",
     "text": [
      "  9%|▉         | 9/100 [00:02<00:24,  3.69it/s]\n"
     ]
    },
    {
     "name": "stdout",
     "output_type": "stream",
     "text": [
      "Early stopping\n",
      "Batch_size: 256 Fold: 0 Test accuracy: 0.6216968011126565\n",
      "\n"
     ]
    },
    {
     "name": "stderr",
     "output_type": "stream",
     "text": [
      " 12%|█▏        | 12/100 [00:02<00:18,  4.78it/s]\n"
     ]
    },
    {
     "name": "stdout",
     "output_type": "stream",
     "text": [
      "Early stopping\n",
      "Batch_size: 256 Fold: 1 Test accuracy: 0.6258692628650904\n",
      "\n"
     ]
    },
    {
     "name": "stderr",
     "output_type": "stream",
     "text": [
      " 26%|██▌       | 26/100 [00:05<00:15,  4.74it/s]\n"
     ]
    },
    {
     "name": "stdout",
     "output_type": "stream",
     "text": [
      "Early stopping\n",
      "Batch_size: 256 Fold: 2 Test accuracy: 0.6532033426183844\n",
      "\n"
     ]
    },
    {
     "name": "stderr",
     "output_type": "stream",
     "text": [
      " 30%|███       | 30/100 [00:06<00:14,  4.79it/s]\n"
     ]
    },
    {
     "name": "stdout",
     "output_type": "stream",
     "text": [
      "Early stopping\n",
      "Batch_size: 256 Fold: 3 Test accuracy: 0.66991643454039\n",
      "\n"
     ]
    },
    {
     "name": "stderr",
     "output_type": "stream",
     "text": [
      "  8%|▊         | 8/100 [00:01<00:18,  4.89it/s]\n"
     ]
    },
    {
     "name": "stdout",
     "output_type": "stream",
     "text": [
      "Early stopping\n",
      "Batch_size: 256 Fold: 4 Test accuracy: 0.6239554317548747\n",
      "\n",
      "Mean Cross Validation accuracy: 0.6389282545782792\n",
      "\n",
      "Starting Batch_size 512\n"
     ]
    },
    {
     "name": "stderr",
     "output_type": "stream",
     "text": [
      " 14%|█▍        | 14/100 [00:02<00:13,  6.29it/s]\n"
     ]
    },
    {
     "name": "stdout",
     "output_type": "stream",
     "text": [
      "Early stopping\n",
      "Batch_size: 512 Fold: 0 Test accuracy: 0.6216968011126565\n",
      "\n"
     ]
    },
    {
     "name": "stderr",
     "output_type": "stream",
     "text": [
      " 21%|██        | 21/100 [00:03<00:13,  5.73it/s]\n"
     ]
    },
    {
     "name": "stdout",
     "output_type": "stream",
     "text": [
      "Early stopping\n",
      "Batch_size: 512 Fold: 1 Test accuracy: 0.6161335187760779\n",
      "\n"
     ]
    },
    {
     "name": "stderr",
     "output_type": "stream",
     "text": [
      " 19%|█▉        | 19/100 [00:02<00:12,  6.55it/s]\n"
     ]
    },
    {
     "name": "stdout",
     "output_type": "stream",
     "text": [
      "Early stopping\n",
      "Batch_size: 512 Fold: 2 Test accuracy: 0.6615598885793872\n",
      "\n"
     ]
    },
    {
     "name": "stderr",
     "output_type": "stream",
     "text": [
      " 10%|█         | 10/100 [00:01<00:17,  5.13it/s]\n"
     ]
    },
    {
     "name": "stdout",
     "output_type": "stream",
     "text": [
      "Early stopping\n",
      "Batch_size: 512 Fold: 3 Test accuracy: 0.6225626740947076\n",
      "\n"
     ]
    },
    {
     "name": "stderr",
     "output_type": "stream",
     "text": [
      " 10%|█         | 10/100 [00:02<00:18,  4.77it/s]\n"
     ]
    },
    {
     "name": "stdout",
     "output_type": "stream",
     "text": [
      "Early stopping\n",
      "Batch_size: 512 Fold: 4 Test accuracy: 0.6364902506963789\n",
      "\n",
      "Mean Cross Validation accuracy: 0.6316886266518417\n",
      "\n",
      "Starting Batch_size 1024\n"
     ]
    },
    {
     "name": "stderr",
     "output_type": "stream",
     "text": [
      " 36%|███▌      | 36/100 [00:05<00:09,  6.93it/s]\n"
     ]
    },
    {
     "name": "stdout",
     "output_type": "stream",
     "text": [
      "Early stopping\n",
      "Batch_size: 1024 Fold: 0 Test accuracy: 0.631432545201669\n",
      "\n"
     ]
    },
    {
     "name": "stderr",
     "output_type": "stream",
     "text": [
      " 26%|██▌       | 26/100 [00:03<00:11,  6.54it/s]\n"
     ]
    },
    {
     "name": "stdout",
     "output_type": "stream",
     "text": [
      "Early stopping\n",
      "Batch_size: 1024 Fold: 1 Test accuracy: 0.6244784422809457\n",
      "\n"
     ]
    },
    {
     "name": "stderr",
     "output_type": "stream",
     "text": [
      " 54%|█████▍    | 54/100 [00:07<00:06,  6.94it/s]\n"
     ]
    },
    {
     "name": "stdout",
     "output_type": "stream",
     "text": [
      "Early stopping\n",
      "Batch_size: 1024 Fold: 2 Test accuracy: 0.6657381615598886\n",
      "\n"
     ]
    },
    {
     "name": "stderr",
     "output_type": "stream",
     "text": [
      " 43%|████▎     | 43/100 [00:06<00:08,  7.10it/s]\n"
     ]
    },
    {
     "name": "stdout",
     "output_type": "stream",
     "text": [
      "Early stopping\n",
      "Batch_size: 1024 Fold: 3 Test accuracy: 0.6420612813370473\n",
      "\n"
     ]
    },
    {
     "name": "stderr",
     "output_type": "stream",
     "text": [
      " 25%|██▌       | 25/100 [00:03<00:11,  6.71it/s]"
     ]
    },
    {
     "name": "stdout",
     "output_type": "stream",
     "text": [
      "Early stopping\n",
      "Batch_size: 1024 Fold: 4 Test accuracy: 0.6211699164345403\n",
      "\n",
      "Mean Cross Validation accuracy: 0.6369760693628183\n",
      "\n"
     ]
    },
    {
     "name": "stderr",
     "output_type": "stream",
     "text": [
      "\n"
     ]
    }
   ],
   "source": [
    "def find_optimal_hyperparameter(X_train_scaled_dict, X_val_scaled_dict, y_train_dict, y_val_dict, batch_sizes, hyperparameter_name):\n",
    "    cross_validation_accuracies = {}\n",
    "\n",
    "\n",
    "    for batch_size in batch_sizes:\n",
    "        print(f'Starting Batch_size {batch_size}')\n",
    "        test_accuracies = []\n",
    "        for i in range(len(X_train_scaled_dict[batch_size])):\n",
    "            X_train_fold = X_train_scaled_dict[batch_size][i]\n",
    "            y_train_fold = y_train_dict[batch_size][i]\n",
    "            X_val_fold = X_val_scaled_dict[batch_size][i]\n",
    "            y_val_fold = y_val_dict[batch_size][i]\n",
    "\n",
    "            \n",
    "            train_dataloader, test_dataloader = intialise_loaders(X_train_fold,y_train_fold,X_val_fold,y_val_fold,batch_size)\n",
    "            # Define hyperparameters\n",
    "            input_size = X_train.shape[1]   \n",
    "            no_hidden = [256,128]\n",
    "            num_classes = len(np.unique(y_train))\n",
    "            learning_rate = 0.001\n",
    "\n",
    "            # Define the models\n",
    "            mlp_model = MLP(input_size, no_hidden, num_classes)\n",
    "\n",
    "\n",
    "            # Define loss function and optimizer\n",
    "            loss_fn = nn.CrossEntropyLoss()\n",
    "            optimizer = optim.Adam( list(mlp_model.parameters()) , lr=learning_rate)\n",
    "            test_accuracy = train_model(mlp_model, train_dataloader, test_dataloader, loss_fn, optimizer)\n",
    "            test_accuracies.append(test_accuracy)\n",
    "            print(f'Batch_size: {batch_size} Fold: {i} Test accuracy: {test_accuracy}\\n')\n",
    "        cross_validation_accuracies[batch_size] = np.mean(test_accuracies)\n",
    "        print(f'Mean Cross Validation accuracy: {cross_validation_accuracies[batch_size]}\\n')\n",
    "    return cross_validation_accuracies\n",
    "\n",
    "\n",
    "\n",
    "\n",
    "batch_sizes = [32,64, 128, 256, 512, 1024]\n",
    "cross_validation_accuracies = find_optimal_hyperparameter(X_train_scaled_dict, X_val_scaled_dict, y_train_dict, y_val_dict, batch_sizes, 'batch_size')\n"
   ]
  },
  {
   "cell_type": "code",
   "execution_count": 18,
   "metadata": {},
   "outputs": [
    {
     "data": {
      "image/png": "[encoded data removed]",
      "text/plain": [
       "<Figure size 800x600 with 1 Axes>"
      ]
     },
     "metadata": {},
     "output_type": "display_data"
    }
   ],
   "source": [
    "mean_accuracies = list(cross_validation_accuracies.values())\n",
    "# Plot scatterplot\n",
    "plt.figure(figsize=(8, 6))\n",
    "plt.scatter(batch_sizes, mean_accuracies, color='blue')\n",
    "plt.title('Mean Cross Validation Accuracies vs. Batch Sizes')\n",
    "plt.xlabel('Batch Sizes')\n",
    "plt.ylabel('Mean Cross Validation Accuracies')\n",
    "plt.grid(True)\n",
    "plt.show()"
   ]
  },
  {
   "cell_type": "code",
   "execution_count": null,
   "metadata": {},
   "outputs": [],
   "source": []
  }
 ],
 "metadata": {
  "kernelspec": {
   "display_name": "Python 3",
   "language": "python",
   "name": "python3"
  },
  "language_info": {
   "codemirror_mode": {
    "name": "ipython",
    "version": 3
   },
   "file_extension": ".py",
   "mimetype": "text/x-python",
   "name": "python",
   "nbconvert_exporter": "python",
   "pygments_lexer": "ipython3",
   "version": "3.11.1"
  }
 },
 "nbformat": 4,
 "nbformat_minor": 2
}
