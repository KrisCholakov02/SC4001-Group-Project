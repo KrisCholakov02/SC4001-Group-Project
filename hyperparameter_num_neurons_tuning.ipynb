{
 "cells": [
  {
   "cell_type": "code",
   "execution_count": 1,
   "metadata": {},
   "outputs": [],
   "source": [
    "# Importing libraries\n",
    "import torch\n",
    "import torch.nn as nn\n",
    "import torch.nn.functional as F\n",
    "import torch.optim as optim\n",
    "from torch.utils.data import DataLoader, Dataset\n",
    "\n",
    "from tqdm import tqdm\n",
    "import pandas as pd\n",
    "import numpy as np\n",
    "import matplotlib.pyplot as plt\n",
    "\n",
    "from sklearn.model_selection import train_test_split\n",
    "from sklearn.preprocessing import LabelEncoder\n",
    "from sklearn import preprocessing\n",
    "from sklearn.model_selection import KFold\n",
    "from sklearn.metrics import f1_score, precision_score, recall_score, confusion_matrix\n",
    "\n",
    "from keras.preprocessing.text import Tokenizer\n",
    "from keras.preprocessing.sequence import pad_sequences\n"
   ]
  },
  {
   "cell_type": "markdown",
   "metadata": {},
   "source": [
    "Reading audio features from csv"
   ]
  },
  {
   "cell_type": "code",
   "execution_count": 2,
   "metadata": {},
   "outputs": [],
   "source": [
    "features_df = pd.read_csv(\"features_df.csv\")\n",
    "labels_df = features_df['label']\n",
    "features_df.drop('label',axis=1, inplace=True)"
   ]
  },
  {
   "cell_type": "markdown",
   "metadata": {},
   "source": [
    "Splitting into test and train dataset and separating the trascripted text from the audio data "
   ]
  },
  {
   "cell_type": "code",
   "execution_count": 3,
   "metadata": {},
   "outputs": [],
   "source": [
    "X_train, X_test, y_train, y_test = train_test_split(features_df, labels_df, test_size=0.2, random_state=42)\n",
    "texts_train = X_train['text'].to_list()\n",
    "texts_test = X_test['text'].to_list()\n",
    "X_train.drop('text', axis=1, inplace=True)\n",
    "X_test.drop('text', axis=1, inplace=True)"
   ]
  },
  {
   "cell_type": "markdown",
   "metadata": {},
   "source": [
    "Tokenize the text data and create padded sequences for each data point"
   ]
  },
  {
   "cell_type": "code",
   "execution_count": 4,
   "metadata": {},
   "outputs": [],
   "source": [
    "# Tokenize the text data\n",
    "tokenizer = Tokenizer()\n",
    "tokenizer.fit_on_texts(texts_train+texts_test)\n",
    "sequences_train = tokenizer.texts_to_sequences(texts_train)\n",
    "max_length_train = max([len(seq) for seq in sequences_train])\n",
    "padded_sequences = pad_sequences(sequences_train, maxlen=max_length_train)\n",
    "\n",
    "sequences_test = tokenizer.texts_to_sequences(texts_test)\n",
    "max_length_test = max([len(seq) for seq in sequences_test])\n",
    "padded_sequences_test = pad_sequences(sequences_test, maxlen=max_length_test)"
   ]
  },
  {
   "cell_type": "code",
   "execution_count": 5,
   "metadata": {},
   "outputs": [],
   "source": [
    "# Helper function to scale the audio data\n",
    "def preprocess_dataset(df_train, df_test):\n",
    "\n",
    "    standard_scaler = preprocessing.StandardScaler()\n",
    "    df_train_scaled = standard_scaler.fit_transform(df_train)\n",
    "    df_test_scaled = standard_scaler.transform(df_test)\n",
    "\n",
    "    return df_train_scaled, df_test_scaled\n",
    "\n",
    "# Early stopping\n",
    "class EarlyStopping:\n",
    "    def __init__(self, patience=5, verbose=False, delta=0, path='checkpoint.pt'):\n",
    "        self.patience = patience\n",
    "        self.verbose = verbose\n",
    "        self.counter = 0\n",
    "        self.best_score = None\n",
    "        self.early_stop = False\n",
    "        self.val_loss_min = np.Inf\n",
    "        self.delta = delta\n",
    "        self.path = path\n",
    "\n",
    "    def __call__(self, val_loss, model):\n",
    "        score = -val_loss\n",
    "\n",
    "        if self.best_score is None:\n",
    "            self.best_score = score\n",
    "            self.save_checkpoint(val_loss, model)\n",
    "        elif score < self.best_score + self.delta:\n",
    "            self.counter += 1\n",
    "            if self.verbose:\n",
    "                print(f'EarlyStopping counter: {self.counter} out of {self.patience}')\n",
    "            if self.counter >= self.patience:\n",
    "                self.early_stop = True\n",
    "        else:\n",
    "            self.best_score = score\n",
    "            self.save_checkpoint(val_loss, model)\n",
    "            self.counter = 0\n",
    "\n",
    "    def save_checkpoint(self, val_loss, model):\n",
    "        if self.verbose:\n",
    "            print(f'Validation loss decreased ({self.val_loss_min:.6f} --> {val_loss:.6f}).  Saving model ...')\n",
    "        torch.save(model.state_dict(), self.path)\n",
    "        self.val_loss_min = val_loss\n",
    "\n",
    "# Custom dataset class to store the audio data, labels and text\n",
    "class CustomDataset(Dataset):\n",
    "    def __init__(self, data, labels, text):\n",
    "        self.data = data\n",
    "        self.labels = labels\n",
    "        self.text = text\n",
    "        \n",
    "    def __len__(self):\n",
    "        return len(self.data)\n",
    "    \n",
    "    def __getitem__(self, idx):\n",
    "        return self.data[idx], self.labels[idx], self.text[idx]\n",
    "\n",
    "# Helper function to initialise the dataloaders\n",
    "def intialise_loaders(X_train, y_train, X_test, y_test, batch_size):\n",
    "    train_data = CustomDataset(X_train, y_train, padded_sequences)\n",
    "    test_data = CustomDataset(X_test, y_test, padded_sequences_test)\n",
    "    train_dataloader = DataLoader(train_data, batch_size, shuffle=True)\n",
    "    test_dataloader = DataLoader(test_data, batch_size, shuffle=True)\n",
    "    return train_dataloader, test_dataloader"
   ]
  },
  {
   "cell_type": "markdown",
   "metadata": {},
   "source": [
    "Label Encoder to convert emotion labels to integers for the model training"
   ]
  },
  {
   "cell_type": "code",
   "execution_count": 6,
   "metadata": {},
   "outputs": [],
   "source": [
    "label_encoder = LabelEncoder()\n",
    "y_train_encoded = label_encoder.fit_transform(y_train)\n",
    "y_test_encoded = label_encoder.transform(y_test)"
   ]
  },
  {
   "cell_type": "code",
   "execution_count": 7,
   "metadata": {},
   "outputs": [],
   "source": [
    "# Define the MLP model\n",
    "class MLP(nn.Module):\n",
    "\n",
    "    def __init__(self, no_features, no_hidden, no_labels):\n",
    "        super().__init__()\n",
    "        layers = []\n",
    "        parameters = [no_features] + no_hidden\n",
    "        for i in range(len(parameters) - 1):\n",
    "            layers.append(nn.Linear(parameters[i], parameters[i+1]))\n",
    "            layers.append(nn.ReLU())\n",
    "            layers.append(nn.Dropout(0.2))\n",
    "        \n",
    "        self.mlp_stack = nn.Sequential(*layers)\n",
    "        self.fc = nn.Linear(parameters[-1], no_labels)\n",
    "        self.softmax = nn.Softmax(dim=1)\n",
    "\n",
    "    def forward(self, x):\n",
    "        x1 = self.mlp_stack(x)\n",
    "        u = self.fc(x1)\n",
    "        y = self.softmax(u)\n",
    "        return y\n",
    "    \n",
    "# Define the CNN model for NLP processing\n",
    "class CNN(nn.Module):\n",
    "    def __init__(self, vocab_size, embedding_dim, num_filters, filter_sizes, output_dim, dropout):\n",
    "        super(CNN, self).__init__()\n",
    "        self.embedding = nn.Embedding(vocab_size, embedding_dim)\n",
    "        self.convs = nn.ModuleList([\n",
    "            nn.Conv2d(in_channels=1, out_channels=num_filters, kernel_size=(fs, embedding_dim))\n",
    "            for fs in filter_sizes\n",
    "        ])   \n",
    "        self.fc = nn.Linear(len(filter_sizes) * num_filters, output_dim)\n",
    "        self.dropout = nn.Dropout(dropout)\n",
    "    def forward(self, x):\n",
    "        x = x.unsqueeze(1)  \n",
    "        embedded = self.embedding(x)  \n",
    "        conved = [F.relu(conv(embedded)).squeeze(3) for conv in self.convs]  \n",
    "        pooled = [F.max_pool1d(conv, conv.shape[2]).squeeze(2) for conv in conved]  \n",
    "        cat = self.dropout(torch.cat(pooled, dim=1))  \n",
    "        output = self.fc(cat)  \n",
    "        return output\n",
    "    \n",
    "# Define the fusion layer\n",
    "class FusionLayer(nn.Module):\n",
    "    def __init__(self, audio_input_size, text_input_size, output_size, audio_weight=1.0, text_weight=0.0):\n",
    "        super(FusionLayer, self).__init__()\n",
    "        self.fc_audio = nn.Linear(audio_input_size, output_size)\n",
    "        self.fc_text = nn.Linear(text_input_size, output_size)\n",
    "        self.audio_weight = audio_weight\n",
    "        self.text_weight = text_weight\n",
    "\n",
    "    def forward(self, audio_features, text_features):\n",
    "        audio_out = self.fc_audio(audio_features)\n",
    "        text_out = self.fc_text(text_features)\n",
    "        # Apply weight to audio features\n",
    "        audio_out_weighted = self.audio_weight * audio_out\n",
    "        # Apply weight to text features\n",
    "        text_out_weighted = self.text_weight * text_out\n",
    "        fused_output = audio_out_weighted + text_out_weighted\n",
    "        return fused_output\n",
    "\n",
    "\n"
   ]
  },
  {
   "cell_type": "code",
   "execution_count": 8,
   "metadata": {},
   "outputs": [],
   "source": [
    "# Training function\n",
    "def train_model(mlp_model, train_dataloader, test_dataloader, loss_fn, optimizer):\n",
    "    num_epochs = 100\n",
    "    early_stopping = EarlyStopping(patience=3)\n",
    "\n",
    "    training_losses = []\n",
    "    training_accuracy = []\n",
    "    validation_losses = []\n",
    "    validation_accuracy = []\n",
    "    for epoch in (range(num_epochs)):\n",
    "        mlp_model.train()   \n",
    "         \n",
    "        training_loss = 0\n",
    "        training_correct_preds = 0\n",
    "        total = 0\n",
    "        \n",
    "        # training\n",
    "        for inputs, labels, texts in train_dataloader:\n",
    "            inputs = inputs.float()\n",
    "\n",
    "            # forward pass\n",
    "            outputs = mlp_model(inputs)\n",
    "            loss = loss_fn(outputs, labels)\n",
    "\n",
    "            # backward pass and optimization\n",
    "            optimizer.zero_grad()\n",
    "            loss.backward()\n",
    "            optimizer.step()\n",
    "            \n",
    "            # track loss and accuracy\n",
    "            training_loss += loss.item()\n",
    "            _, predicted = torch.max(outputs.data, 1)\n",
    "            total += labels.size(0)\n",
    "            training_correct_preds += (predicted == labels).sum().item()\n",
    "            \n",
    "            \n",
    "        training_losses.append(training_loss / len(train_dataloader))\n",
    "        training_accuracy.append(training_correct_preds / len(train_dataloader.dataset))\n",
    "            \n",
    "        # validation\n",
    "        mlp_model.eval() \n",
    "        with torch.no_grad():\n",
    "            validation_loss = 0\n",
    "            validation_correct_preds = 0\n",
    "            for inputs, labels, texts in test_dataloader:\n",
    "                inputs = inputs.float()\n",
    "                outputs = mlp_model(inputs)\n",
    "                loss = loss_fn(outputs, labels)\n",
    "                validation_loss += loss.item()\n",
    "                _, predicted = torch.max(outputs.data, 1)\n",
    "                validation_correct_preds += (predicted == labels).sum().item()\n",
    "        \n",
    "        validation_losses.append(validation_loss / len(test_dataloader))\n",
    "        validation_accuracy.append(validation_correct_preds / len(test_dataloader.dataset))\n",
    "        # Check if validation loss is decreasing\n",
    "        early_stopping(validation_loss, mlp_model)\n",
    "        \n",
    "        if early_stopping.early_stop:\n",
    "            break\n",
    "\n",
    "    return validation_accuracy[-1]"
   ]
  },
  {
   "cell_type": "code",
   "execution_count": 9,
   "metadata": {},
   "outputs": [
    {
     "name": "stdout",
     "output_type": "stream",
     "text": [
      "Starting [64]\n"
     ]
    },
    {
     "name": "stderr",
     "output_type": "stream",
     "text": [
      "100%|██████████| 5/5 [00:28<00:00,  5.62s/it]\n"
     ]
    },
    {
     "name": "stdout",
     "output_type": "stream",
     "text": [
      "Mean Cross Validation accuracy: 0.631959429879785\n",
      "\n",
      "Starting [128]\n"
     ]
    },
    {
     "name": "stderr",
     "output_type": "stream",
     "text": [
      "100%|██████████| 5/5 [00:34<00:00,  6.81s/it]\n"
     ]
    },
    {
     "name": "stdout",
     "output_type": "stream",
     "text": [
      "Mean Cross Validation accuracy: 0.6425343153017383\n",
      "\n",
      "Starting [256]\n"
     ]
    },
    {
     "name": "stderr",
     "output_type": "stream",
     "text": [
      "100%|██████████| 5/5 [00:42<00:00,  8.50s/it]\n"
     ]
    },
    {
     "name": "stdout",
     "output_type": "stream",
     "text": [
      "Mean Cross Validation accuracy: 0.6439313345291551\n",
      "\n",
      "Starting [64, 64]\n"
     ]
    },
    {
     "name": "stderr",
     "output_type": "stream",
     "text": [
      "100%|██████████| 5/5 [00:20<00:00,  4.03s/it]\n"
     ]
    },
    {
     "name": "stdout",
     "output_type": "stream",
     "text": [
      "Mean Cross Validation accuracy: 0.6325200196806924\n",
      "\n",
      "Starting [128, 128]\n"
     ]
    },
    {
     "name": "stderr",
     "output_type": "stream",
     "text": [
      "100%|██████████| 5/5 [00:46<00:00,  9.21s/it]\n"
     ]
    },
    {
     "name": "stdout",
     "output_type": "stream",
     "text": [
      "Mean Cross Validation accuracy: 0.6414297945537171\n",
      "\n",
      "Starting [256, 256]\n"
     ]
    },
    {
     "name": "stderr",
     "output_type": "stream",
     "text": [
      "100%|██████████| 5/5 [00:36<00:00,  7.24s/it]\n"
     ]
    },
    {
     "name": "stdout",
     "output_type": "stream",
     "text": [
      "Mean Cross Validation accuracy: 0.6314019394005137\n",
      "\n",
      "Starting [64, 128]\n"
     ]
    },
    {
     "name": "stderr",
     "output_type": "stream",
     "text": [
      "100%|██████████| 5/5 [00:17<00:00,  3.53s/it]\n"
     ]
    },
    {
     "name": "stdout",
     "output_type": "stream",
     "text": [
      "Mean Cross Validation accuracy: 0.6353012734337772\n",
      "\n",
      "Starting [128, 64]\n"
     ]
    },
    {
     "name": "stderr",
     "output_type": "stream",
     "text": [
      "100%|██████████| 5/5 [00:13<00:00,  2.77s/it]\n"
     ]
    },
    {
     "name": "stdout",
     "output_type": "stream",
     "text": [
      "Mean Cross Validation accuracy: 0.6316820405933652\n",
      "\n",
      "Starting [128, 256]\n"
     ]
    },
    {
     "name": "stderr",
     "output_type": "stream",
     "text": [
      "100%|██████████| 5/5 [00:35<00:00,  7.08s/it]\n"
     ]
    },
    {
     "name": "stdout",
     "output_type": "stream",
     "text": [
      "Mean Cross Validation accuracy: 0.6472743403287605\n",
      "\n",
      "Starting [64, 256]\n"
     ]
    },
    {
     "name": "stderr",
     "output_type": "stream",
     "text": [
      "100%|██████████| 5/5 [00:29<00:00,  5.97s/it]\n"
     ]
    },
    {
     "name": "stdout",
     "output_type": "stream",
     "text": [
      "Mean Cross Validation accuracy: 0.6392006074670407\n",
      "\n",
      "Starting [256, 128]\n"
     ]
    },
    {
     "name": "stderr",
     "output_type": "stream",
     "text": [
      "100%|██████████| 5/5 [00:48<00:00,  9.76s/it]\n"
     ]
    },
    {
     "name": "stdout",
     "output_type": "stream",
     "text": [
      "Mean Cross Validation accuracy: 0.6475501799543625\n",
      "\n",
      "Starting [256, 64]\n"
     ]
    },
    {
     "name": "stderr",
     "output_type": "stream",
     "text": [
      "100%|██████████| 5/5 [00:38<00:00,  7.77s/it]\n"
     ]
    },
    {
     "name": "stdout",
     "output_type": "stream",
     "text": [
      "Mean Cross Validation accuracy: 0.6405949147880258\n",
      "\n",
      "Starting [64, 64, 64]\n"
     ]
    },
    {
     "name": "stderr",
     "output_type": "stream",
     "text": [
      "100%|██████████| 5/5 [00:21<00:00,  4.30s/it]\n"
     ]
    },
    {
     "name": "stdout",
     "output_type": "stream",
     "text": [
      "Mean Cross Validation accuracy: 0.630568996710845\n",
      "\n",
      "Starting [128, 128, 128]\n"
     ]
    },
    {
     "name": "stderr",
     "output_type": "stream",
     "text": [
      "100%|██████████| 5/5 [00:19<00:00,  3.90s/it]\n"
     ]
    },
    {
     "name": "stdout",
     "output_type": "stream",
     "text": [
      "Mean Cross Validation accuracy: 0.6336322887328036\n",
      "\n",
      "Starting [256, 256, 256]\n"
     ]
    },
    {
     "name": "stderr",
     "output_type": "stream",
     "text": [
      "100%|██████████| 5/5 [01:07<00:00, 13.42s/it]\n"
     ]
    },
    {
     "name": "stdout",
     "output_type": "stream",
     "text": [
      "Mean Cross Validation accuracy: 0.6336322887328036\n",
      "\n",
      "Starting [64, 128, 256]\n"
     ]
    },
    {
     "name": "stderr",
     "output_type": "stream",
     "text": [
      "100%|██████████| 5/5 [00:45<00:00,  9.19s/it]\n"
     ]
    },
    {
     "name": "stdout",
     "output_type": "stream",
     "text": [
      "Mean Cross Validation accuracy: 0.6322379814118184\n",
      "\n",
      "Starting [64, 256, 256]\n"
     ]
    },
    {
     "name": "stderr",
     "output_type": "stream",
     "text": [
      "100%|██████████| 5/5 [00:34<00:00,  6.99s/it]\n"
     ]
    },
    {
     "name": "stdout",
     "output_type": "stream",
     "text": [
      "Mean Cross Validation accuracy: 0.6383672773621674\n",
      "\n",
      "Starting [128, 64, 64]\n"
     ]
    },
    {
     "name": "stderr",
     "output_type": "stream",
     "text": [
      "100%|██████████| 5/5 [00:25<00:00,  5.05s/it]\n"
     ]
    },
    {
     "name": "stdout",
     "output_type": "stream",
     "text": [
      "Mean Cross Validation accuracy: 0.6350250463929707\n",
      "\n",
      "Starting [128, 128, 64]\n"
     ]
    },
    {
     "name": "stderr",
     "output_type": "stream",
     "text": [
      "100%|██████████| 5/5 [00:37<00:00,  7.57s/it]\n"
     ]
    },
    {
     "name": "stdout",
     "output_type": "stream",
     "text": [
      "Mean Cross Validation accuracy: 0.6397588727767209\n",
      "\n",
      "Starting [256, 128, 64]\n"
     ]
    },
    {
     "name": "stderr",
     "output_type": "stream",
     "text": [
      "100%|██████████| 5/5 [00:40<00:00,  8.07s/it]\n"
     ]
    },
    {
     "name": "stdout",
     "output_type": "stream",
     "text": [
      "Mean Cross Validation accuracy: 0.6305631854827775\n",
      "\n",
      "Starting [256, 256, 128]\n"
     ]
    },
    {
     "name": "stderr",
     "output_type": "stream",
     "text": [
      "100%|██████████| 5/5 [00:53<00:00, 10.66s/it]"
     ]
    },
    {
     "name": "stdout",
     "output_type": "stream",
     "text": [
      "Mean Cross Validation accuracy: 0.6255566187950613\n",
      "\n"
     ]
    },
    {
     "name": "stderr",
     "output_type": "stream",
     "text": [
      "\n"
     ]
    }
   ],
   "source": [
    "def find_optimal_hyperparameter(X_train, y_train, num_neurons, batch_size):\n",
    "    cross_validation_accuracies = {}\n",
    "    n_splits = 5\n",
    "    \n",
    "    # KFold cross validation over 5 folds\n",
    "    kf = KFold(n_splits=n_splits, shuffle=True)\n",
    "    X_train_scaled_folds = []\n",
    "    X_val_scaled_folds = []\n",
    "    y_train_folds = []\n",
    "    y_val_folds = []\n",
    "    \n",
    "    for train_index, val_index in kf.split(X_train):\n",
    "        X_batch_train, X_batch_val = X_train[train_index], X_train[val_index]\n",
    "        y_batch_train, y_batch_val = y_train[train_index], y_train[val_index]\n",
    "\n",
    "        # Preprocess the data\n",
    "        X_batch_train_scaled,X_batch_val_scaled = preprocess_dataset(X_batch_train,X_batch_val)\n",
    "    \n",
    "        X_train_scaled_folds.append(X_batch_train_scaled)\n",
    "        X_val_scaled_folds.append(X_batch_val_scaled)\n",
    "        y_train_folds.append(y_batch_train)\n",
    "        y_val_folds.append(y_batch_val)\n",
    "\n",
    "\n",
    "\n",
    "    for config in num_neurons:\n",
    "        print(f'Starting {config}')\n",
    "        test_accuracies = []\n",
    "        for i in tqdm(range(len(X_train_scaled_folds))):\n",
    "            X_train_fold = X_train_scaled_folds[i]\n",
    "            y_train_fold = y_train_folds[i]\n",
    "            X_val_fold = X_val_scaled_folds[i]\n",
    "            y_val_fold = y_val_folds[i]\n",
    "\n",
    "        \n",
    "            train_dataloader, test_dataloader = intialise_loaders(X_train_fold,y_train_fold,X_val_fold,y_val_fold,batch_size)\n",
    "            # Define hyperparameters\n",
    "            input_size = X_train.shape[1]   \n",
    "            no_hidden = config\n",
    "            num_classes = len(np.unique(y_train))\n",
    "            learning_rate = 0.001\n",
    "\n",
    "            # Define the models\n",
    "            mlp_model = MLP(input_size, no_hidden, num_classes)\n",
    "\n",
    "\n",
    "            # Define loss function and optimizer\n",
    "            loss_fn = nn.CrossEntropyLoss()\n",
    "            optimizer = optim.Adam(list(mlp_model.parameters()), lr=learning_rate)\n",
    "\n",
    "            test_accuracy = train_model(mlp_model, train_dataloader, test_dataloader, loss_fn, optimizer)\n",
    "            test_accuracies.append(test_accuracy)\n",
    "          \n",
    "        cross_validation_accuracies[', '.join(map(str, config))] = np.mean(test_accuracies)\n",
    "        print(f'Mean Cross Validation accuracy: {np.mean(test_accuracies)}\\n')\n",
    "    return cross_validation_accuracies\n",
    "\n",
    "# Optimal Batch Size\n",
    "optimal_bs = 32\n",
    "\n",
    "num_neurons = [[64], [128], [256], [64, 64], [128, 128], [256, 256], [64, 128], [128, 64], [128, 256], [64, 256], [256, 128], [256, 64], [64, 64, 64], [128, 128, 128], [256, 256, 256], [64, 128, 256], [64, 256, 256], [128, 64, 64], [128, 128, 64], [256, 128, 64], [256, 256, 128]]\n",
    "cross_validation_accuracies = find_optimal_hyperparameter(X_train.to_numpy(), y_train_encoded, num_neurons, optimal_bs)\n"
   ]
  },
  {
   "cell_type": "code",
   "execution_count": 10,
   "metadata": {},
   "outputs": [
    {
     "data": {
      "image/png": "[encoded data removed]",
      "text/plain": [
       "<Figure size 1200x600 with 1 Axes>"
      ]
     },
     "metadata": {},
     "output_type": "display_data"
    }
   ],
   "source": [
    "keys = list(cross_validation_accuracies.keys())\n",
    "values = list(cross_validation_accuracies.values())\n",
    "\n",
    "# Plot the mean cross-validation accuracies\n",
    "plt.figure(figsize=(12, 6))\n",
    "plt.scatter(keys, values)\n",
    "plt.xticks(range(len(keys)), keys, rotation=90)\n",
    "plt.xlabel('Combination of Depth and Widths')\n",
    "plt.ylabel('Mean Cross-validation Accuracy')\n",
    "plt.title('Mean Cross-validation Accuracies for Different Combinations of Depth and Widths')\n",
    "plt.grid(True)\n",
    "plt.tight_layout()\n",
    "plt.show()\n"
   ]
  },
  {
   "cell_type": "markdown",
   "metadata": {},
   "source": [
    "As seen from the plot, the optimal hyperparameters are [256, 128] for number of neurons in eaxh layer for the MLP model."
   ]
  },
  {
   "cell_type": "markdown",
   "metadata": {},
   "source": []
  }
 ],
 "metadata": {
  "kernelspec": {
   "display_name": "Python 3",
   "language": "python",
   "name": "python3"
  },
  "language_info": {
   "codemirror_mode": {
    "name": "ipython",
    "version": 3
   },
   "file_extension": ".py",
   "mimetype": "text/x-python",
   "name": "python",
   "nbconvert_exporter": "python",
   "pygments_lexer": "ipython3",
   "version": "3.11.1"
  }
 },
 "nbformat": 4,
 "nbformat_minor": 2
}
