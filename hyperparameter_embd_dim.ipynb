{
 "cells": [
  {
   "cell_type": "code",
   "execution_count": 1,
   "metadata": {},
   "outputs": [],
   "source": [
    "import torch\n",
    "import torch.nn as nn\n",
    "import torch.nn.functional as F\n",
    "import torch.optim as optim\n",
    "from torch.utils.data import DataLoader, TensorDataset, Dataset\n",
    "\n",
    "from tqdm import tqdm\n",
    "import os\n",
    "import opensmile\n",
    "import librosa\n",
    "import pandas as pd\n",
    "import numpy as np\n",
    "import matplotlib.pyplot as plt\n",
    "import re\n",
    "\n",
    "from sklearn.model_selection import train_test_split\n",
    "from sklearn.preprocessing import LabelEncoder\n",
    "from sklearn import preprocessing\n",
    "from sklearn.model_selection import KFold\n",
    "from sklearn.metrics import f1_score, precision_score, recall_score, confusion_matrix\n",
    "\n",
    "from keras.preprocessing.text import Tokenizer\n",
    "from keras.preprocessing.sequence import pad_sequences\n",
    "\n",
    "from IPython.lib.display import Audio\n"
   ]
  },
  {
   "cell_type": "code",
   "execution_count": 2,
   "metadata": {},
   "outputs": [],
   "source": [
    "features_df = pd.read_csv(\"features_df_withnewvals.csv\")\n",
    "labels_df = features_df['label']\n",
    "features_df.drop('label',axis=1, inplace=True)"
   ]
  },
  {
   "cell_type": "code",
   "execution_count": 3,
   "metadata": {},
   "outputs": [],
   "source": [
    "X_train, X_test, y_train, y_test = train_test_split(features_df, labels_df, test_size=0.2, random_state=42)\n",
    "texts_train = X_train['text'].to_list()\n",
    "texts_test = X_test['text'].to_list()\n",
    "X_train.drop('text', axis=1, inplace=True)\n",
    "X_test.drop('text', axis=1, inplace=True)"
   ]
  },
  {
   "cell_type": "code",
   "execution_count": 4,
   "metadata": {},
   "outputs": [],
   "source": [
    "# Tokenize the text data\n",
    "tokenizer = Tokenizer()\n",
    "tokenizer.fit_on_texts(texts_train+texts_test)\n"
   ]
  },
  {
   "cell_type": "code",
   "execution_count": 5,
   "metadata": {},
   "outputs": [],
   "source": [
    "def preprocess_dataset(df_train, df_test):\n",
    "\n",
    "    standard_scaler = preprocessing.StandardScaler()\n",
    "    df_train_scaled = standard_scaler.fit_transform(df_train)\n",
    "    df_test_scaled = standard_scaler.transform(df_test)\n",
    "\n",
    "    return df_train_scaled, df_test_scaled\n",
    "\n",
    "# Early stopping\n",
    "class EarlyStopping:\n",
    "    def __init__(self, patience=5, verbose=False, delta=0, path='checkpoint.pt'):\n",
    "        self.patience = patience\n",
    "        self.verbose = verbose\n",
    "        self.counter = 0\n",
    "        self.best_score = None\n",
    "        self.early_stop = False\n",
    "        self.val_loss_min = np.Inf\n",
    "        self.delta = delta\n",
    "        self.path = path\n",
    "\n",
    "    def __call__(self, val_loss, model):\n",
    "        score = -val_loss\n",
    "\n",
    "        if self.best_score is None:\n",
    "            self.best_score = score\n",
    "            self.save_checkpoint(val_loss, model)\n",
    "        elif score < self.best_score + self.delta:\n",
    "            self.counter += 1\n",
    "            if self.verbose:\n",
    "                print(f'EarlyStopping counter: {self.counter} out of {self.patience}')\n",
    "            if self.counter >= self.patience:\n",
    "                self.early_stop = True\n",
    "        else:\n",
    "            self.best_score = score\n",
    "            self.save_checkpoint(val_loss, model)\n",
    "            self.counter = 0\n",
    "\n",
    "    def save_checkpoint(self, val_loss, model):\n",
    "        if self.verbose:\n",
    "            print(f'Validation loss decreased ({self.val_loss_min:.6f} --> {val_loss:.6f}).  Saving model ...')\n",
    "        torch.save(model.state_dict(), self.path)\n",
    "        self.val_loss_min = val_loss\n",
    "        \n",
    "class CustomDataset(Dataset):\n",
    "    def __init__(self, texts, labels):\n",
    "        self.text = texts\n",
    "        self.labels = labels\n",
    "        \n",
    "    def __len__(self):\n",
    "        return len(self.labels)\n",
    "    \n",
    "    def __getitem__(self, idx):\n",
    "        return self.text[idx], self.labels[idx]\n",
    "\n",
    "def intialise_loaders(X_train, y_train, X_test, y_test,batch_size):\n",
    "    train_data = CustomDataset(X_train, y_train)\n",
    "    test_data = CustomDataset(X_test, y_test)\n",
    "    train_dataloader = DataLoader(train_data, batch_size, shuffle=True)\n",
    "    test_dataloader = DataLoader(test_data, batch_size, shuffle=True)\n",
    "    return train_dataloader, test_dataloader"
   ]
  },
  {
   "cell_type": "code",
   "execution_count": 6,
   "metadata": {},
   "outputs": [],
   "source": [
    "label_encoder = LabelEncoder()\n",
    "y_train_encoded = label_encoder.fit_transform(y_train)\n",
    "y_test_encoded = label_encoder.transform(y_test)"
   ]
  },
  {
   "cell_type": "code",
   "execution_count": 7,
   "metadata": {},
   "outputs": [],
   "source": [
    "# Define the MLP model\n",
    "class MLP(nn.Module):\n",
    "\n",
    "    def __init__(self, no_features, no_hidden, no_labels):\n",
    "        super().__init__()\n",
    "        layers = []\n",
    "        parameters = [no_features] + no_hidden\n",
    "        for i in range(len(parameters) - 1):\n",
    "            layers.append(nn.Linear(parameters[i], parameters[i+1]))\n",
    "            layers.append(nn.ReLU())\n",
    "            layers.append(nn.Dropout(0.2))\n",
    "        \n",
    "        self.mlp_stack = nn.Sequential(*layers)\n",
    "        self.fc = nn.Linear(parameters[-1], no_labels)\n",
    "        self.softmax = nn.Softmax(dim=1)\n",
    "\n",
    "    def forward(self, x):\n",
    "        x1 = self.mlp_stack(x)\n",
    "        u = self.fc(x1)\n",
    "        y = self.softmax(u)\n",
    "        return y\n",
    "    \n",
    "# Define the CNN model for NLP processing\n",
    "class CNN(nn.Module):\n",
    "    def __init__(self, vocab_size, embedding_dim, num_filters, filter_sizes, output_dim, dropout):\n",
    "        super(CNN, self).__init__()\n",
    "        self.embedding = nn.Embedding(vocab_size, embedding_dim)\n",
    "        self.convs = nn.ModuleList([\n",
    "            nn.Conv2d(in_channels=1, out_channels=num_filters, kernel_size=(fs, embedding_dim))\n",
    "            for fs in filter_sizes\n",
    "        ])   \n",
    "        self.fc = nn.Linear(len(filter_sizes) * num_filters, output_dim)\n",
    "        self.dropout = nn.Dropout(dropout)\n",
    "    def forward(self, x):\n",
    "        x = x.unsqueeze(1)  \n",
    "        embedded = self.embedding(x)  \n",
    "        conved = [F.relu(conv(embedded)).squeeze(3) for conv in self.convs]  \n",
    "        pooled = [F.max_pool1d(conv, conv.shape[2]).squeeze(2) for conv in conved]  \n",
    "        cat = self.dropout(torch.cat(pooled, dim=1))  \n",
    "        output = self.fc(cat)  \n",
    "        return output\n",
    "    \n",
    "# Define the fusion layer\n",
    "class FusionLayer(nn.Module):\n",
    "    def __init__(self, audio_input_size, text_input_size, output_size, audio_weight=1.0, text_weight=0.0):\n",
    "        super(FusionLayer, self).__init__()\n",
    "        self.fc_audio = nn.Linear(audio_input_size, output_size)\n",
    "        self.fc_text = nn.Linear(text_input_size, output_size)\n",
    "        self.audio_weight = audio_weight\n",
    "        self.text_weight = text_weight\n",
    "\n",
    "    def forward(self, audio_features, text_features):\n",
    "        audio_out = self.fc_audio(audio_features)\n",
    "        text_out = self.fc_text(text_features)\n",
    "        # Apply weight to audio features\n",
    "        audio_out_weighted = self.audio_weight * audio_out\n",
    "        # Apply weight to text features\n",
    "        text_out_weighted = self.text_weight * text_out\n",
    "        fused_output = audio_out_weighted + text_out_weighted\n",
    "        return fused_output\n",
    "\n",
    "\n"
   ]
  },
  {
   "cell_type": "code",
   "execution_count": 8,
   "metadata": {},
   "outputs": [],
   "source": [
    "def train_model(cnn_model, train_dataloader, test_dataloader, loss_fn, optimizer):\n",
    "    num_epochs = 100\n",
    "    early_stopping = EarlyStopping(patience=3)\n",
    "\n",
    "    training_losses = []\n",
    "    training_accuracy = []\n",
    "    validation_losses = []\n",
    "    validation_accuracy = []\n",
    "    for epoch in (range(num_epochs)):\n",
    "        cnn_model.train()   \n",
    "         \n",
    "        training_loss = 0\n",
    "        training_correct_preds = 0\n",
    "        total = 0\n",
    "        \n",
    "        # training\n",
    "        for texts, labels  in train_dataloader:\n",
    "\n",
    "            # forward pass\n",
    "            text_features = cnn_model(texts)\n",
    "            loss = loss_fn(text_features, labels)\n",
    "\n",
    "            # backward pass and optimization\n",
    "            optimizer.zero_grad()\n",
    "            loss.backward()\n",
    "            optimizer.step()\n",
    "            \n",
    "            # track loss and accuracy\n",
    "            training_loss += loss.item()\n",
    "            _, predicted = torch.max(text_features.data, 1)\n",
    "            total += labels.size(0)\n",
    "            training_correct_preds += (predicted == labels).sum().item()\n",
    "            \n",
    "            \n",
    "        training_losses.append(training_loss / len(train_dataloader))\n",
    "        training_accuracy.append(training_correct_preds / len(train_dataloader.dataset))\n",
    "            \n",
    "        # validation\n",
    "        cnn_model.eval() \n",
    "        with torch.no_grad():\n",
    "            validation_loss = 0\n",
    "            validation_correct_preds = 0\n",
    "            for texts, labels in test_dataloader:\n",
    "                text_features = cnn_model(texts)\n",
    "                loss = loss_fn(text_features, labels)\n",
    "                validation_loss += loss.item()\n",
    "                _, predicted = torch.max(text_features.data, 1)\n",
    "                validation_correct_preds += (predicted == labels).sum().item()\n",
    "        \n",
    "        validation_losses.append(validation_loss / len(test_dataloader))\n",
    "        validation_accuracy.append(validation_correct_preds / len(test_dataloader.dataset))\n",
    "        # Check if validation loss is decreasing\n",
    "        early_stopping(validation_loss, cnn_model)\n",
    "        \n",
    "        if early_stopping.early_stop:\n",
    "            break\n",
    "\n",
    "    return validation_accuracy[-1]"
   ]
  },
  {
   "cell_type": "code",
   "execution_count": 9,
   "metadata": {},
   "outputs": [
    {
     "name": "stdout",
     "output_type": "stream",
     "text": [
      "Starting 25\n"
     ]
    },
    {
     "name": "stderr",
     "output_type": "stream",
     "text": [
      "100%|██████████| 5/5 [02:01<00:00, 24.29s/it]\n"
     ]
    },
    {
     "name": "stdout",
     "output_type": "stream",
     "text": [
      "Mean Cross Validation accuracy: 0.6005040271810507\n",
      "\n",
      "Starting 50\n"
     ]
    },
    {
     "name": "stderr",
     "output_type": "stream",
     "text": [
      "100%|██████████| 5/5 [02:16<00:00, 27.22s/it]\n"
     ]
    },
    {
     "name": "stdout",
     "output_type": "stream",
     "text": [
      "Mean Cross Validation accuracy: 0.6152633842267774\n",
      "\n",
      "Starting 100\n"
     ]
    },
    {
     "name": "stderr",
     "output_type": "stream",
     "text": [
      "100%|██████████| 5/5 [03:02<00:00, 36.60s/it]\n"
     ]
    },
    {
     "name": "stdout",
     "output_type": "stream",
     "text": [
      "Mean Cross Validation accuracy: 0.6177649242022153\n",
      "\n",
      "Starting 150\n"
     ]
    },
    {
     "name": "stderr",
     "output_type": "stream",
     "text": [
      "100%|██████████| 5/5 [03:40<00:00, 44.08s/it]\n"
     ]
    },
    {
     "name": "stdout",
     "output_type": "stream",
     "text": [
      "Mean Cross Validation accuracy: 0.6236013342579644\n",
      "\n",
      "Starting 200\n"
     ]
    },
    {
     "name": "stderr",
     "output_type": "stream",
     "text": [
      "100%|██████████| 5/5 [04:37<00:00, 55.52s/it]\n"
     ]
    },
    {
     "name": "stdout",
     "output_type": "stream",
     "text": [
      "Mean Cross Validation accuracy: 0.6275088040105221\n",
      "\n",
      "Starting 250\n"
     ]
    },
    {
     "name": "stderr",
     "output_type": "stream",
     "text": [
      "100%|██████████| 5/5 [05:02<00:00, 60.42s/it]\n"
     ]
    },
    {
     "name": "stdout",
     "output_type": "stream",
     "text": [
      "Mean Cross Validation accuracy: 0.6339100654344281\n",
      "\n",
      "Starting 300\n"
     ]
    },
    {
     "name": "stderr",
     "output_type": "stream",
     "text": [
      "100%|██████████| 5/5 [10:25<00:00, 125.07s/it]"
     ]
    },
    {
     "name": "stdout",
     "output_type": "stream",
     "text": [
      "Mean Cross Validation accuracy: 0.6383703766838034\n",
      "\n"
     ]
    },
    {
     "name": "stderr",
     "output_type": "stream",
     "text": [
      "\n"
     ]
    }
   ],
   "source": [
    "def find_optimal_hyperparameter(X_train, y_train, embedding_dim, batch_size):\n",
    "    cross_validation_accuracies = {}\n",
    "    n_splits = 5\n",
    "    \n",
    "    kf = KFold(n_splits=n_splits, shuffle=True)\n",
    "    X_train_folds = []\n",
    "    X_val_folds = []\n",
    "    y_train_folds = []\n",
    "    y_val_folds = []\n",
    "    # Perform k-fold cross-validation\n",
    "    for train_index, val_index in kf.split(X_train, y_train):\n",
    "        X_batch_train, X_batch_val = X_train[train_index], X_train[val_index]\n",
    "        y_batch_train, y_batch_val = y_train[train_index], y_train[val_index]\n",
    "        \n",
    "        # Tokenize the text data in each fold\n",
    "        X_train_tokenized = tokenizer.texts_to_sequences(X_batch_train)\n",
    "        max_length_train = max([len(seq) for seq in X_train_tokenized])\n",
    "        padded_sequences_train = pad_sequences(X_train_tokenized, maxlen=max_length_train)\n",
    "        \n",
    "        X_val_tokenized = tokenizer.texts_to_sequences(X_batch_val)\n",
    "        max_length_test = max([len(seq) for seq in X_val_tokenized])\n",
    "        padded_sequences_test = pad_sequences(X_val_tokenized, maxlen=max_length_test)\n",
    "        \n",
    "        X_train_folds.append(padded_sequences_train)\n",
    "        X_val_folds.append(padded_sequences_test)\n",
    "        y_train_folds.append(y_batch_train)\n",
    "        y_val_folds.append(y_batch_val)\n",
    "\n",
    "\n",
    "\n",
    "\n",
    "    for dim in embedding_dim:\n",
    "        print(f'Starting {dim}')\n",
    "        test_accuracies = []\n",
    "        for i in tqdm(range(len(X_train_folds))):\n",
    "            X_train_fold = X_train_folds[i]\n",
    "            y_train_fold = y_train_folds[i]\n",
    "            X_val_fold = X_val_folds[i]\n",
    "            y_val_fold = y_val_folds[i]\n",
    "            \n",
    "        \n",
    "            train_dataloader, test_dataloader = intialise_loaders(X_train_fold,y_train_fold,X_val_fold,y_val_fold,batch_size)\n",
    "            # Define hyperparameters\n",
    "            num_classes = len(np.unique(y_train))\n",
    "            learning_rate = 0.001\n",
    "            vocab_size = len(tokenizer.word_index) + 1\n",
    "            num_filters = 100\n",
    "            filter_sizes = [3, 4, 5]\n",
    "            dropout = 0.5\n",
    "\n",
    "            # Define the models\n",
    "            cnn_model = CNN(vocab_size, dim, num_filters, filter_sizes, num_classes, dropout)\n",
    "\n",
    "\n",
    "            # Define loss function and optimizer\n",
    "            loss_fn = nn.CrossEntropyLoss()\n",
    "            optimizer = optim.Adam(list(cnn_model.parameters()), lr=learning_rate)\n",
    "\n",
    "            test_accuracy = train_model(cnn_model, train_dataloader, test_dataloader, loss_fn, optimizer)\n",
    "            test_accuracies.append(test_accuracy)\n",
    "          \n",
    "        cross_validation_accuracies[dim] = np.mean(test_accuracies)\n",
    "        print(f'Mean Cross Validation accuracy: {np.mean(test_accuracies)}\\n')\n",
    "    return cross_validation_accuracies\n",
    "\n",
    "\n",
    "optimal_bs = 32\n",
    "\n",
    "embedding_dim = [25, 50, 100, 150, 200, 250, 300]\n",
    "cross_validation_accuracies = find_optimal_hyperparameter(np.array(texts_train), y_train_encoded, embedding_dim, optimal_bs)"
   ]
  },
  {
   "cell_type": "code",
   "execution_count": 10,
   "metadata": {},
   "outputs": [
    {
     "data": {
      "image/png": "[encoded data removed]",
      "text/plain": [
       "<Figure size 800x600 with 1 Axes>"
      ]
     },
     "metadata": {},
     "output_type": "display_data"
    }
   ],
   "source": [
    "mean_accuracies = list(cross_validation_accuracies.values())\n",
    "# Plot scatterplot\n",
    "plt.figure(figsize=(8, 6))\n",
    "plt.scatter(embedding_dim, mean_accuracies, color='blue')\n",
    "plt.title('Mean Cross Validation Accuracies vs. Embedding Dimensions')\n",
    "plt.xlabel('Embedding Dimensions')\n",
    "plt.ylabel('Mean Cross Validation Accuracies')\n",
    "plt.grid(True)\n",
    "plt.show()"
   ]
  },
  {
   "cell_type": "code",
   "execution_count": null,
   "metadata": {},
   "outputs": [],
   "source": []
  }
 ],
 "metadata": {
  "kernelspec": {
   "display_name": "Python 3",
   "language": "python",
   "name": "python3"
  },
  "language_info": {
   "codemirror_mode": {
    "name": "ipython",
    "version": 3
   },
   "file_extension": ".py",
   "mimetype": "text/x-python",
   "name": "python",
   "nbconvert_exporter": "python",
   "pygments_lexer": "ipython3",
   "version": "3.11.1"
  }
 },
 "nbformat": 4,
 "nbformat_minor": 2
}
